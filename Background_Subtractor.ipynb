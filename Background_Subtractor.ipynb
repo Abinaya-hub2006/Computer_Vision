{
  "nbformat": 4,
  "nbformat_minor": 0,
  "metadata": {
    "colab": {
      "provenance": [],
      "authorship_tag": "ABX9TyOivHX+0z66NRyVDHQ437K8",
      "include_colab_link": true
    },
    "kernelspec": {
      "name": "python3",
      "display_name": "Python 3"
    },
    "language_info": {
      "name": "python"
    }
  },
  "cells": [
    {
      "cell_type": "markdown",
      "metadata": {
        "id": "view-in-github",
        "colab_type": "text"
      },
      "source": [
        "<a href=\"https://colab.research.google.com/github/Abinaya-hub2006/Computer_Vision/blob/main/Background_Subtractor.ipynb\" target=\"_parent\"><img src=\"https://colab.research.google.com/assets/colab-badge.svg\" alt=\"Open In Colab\"/></a>"
      ]
    },
    {
      "cell_type": "code",
      "source": [
        "import cv2\n",
        "import numpy as np\n",
        "\n",
        "class BackgroundSubtractor:\n",
        "    def __init__(self, alpha=0.05, scene_change_threshold=0.3):\n",
        "        self.alpha = alpha  # Learning rate for background averaging\n",
        "        self.scene_change_threshold = scene_change_threshold\n",
        "        self.background = None  # Background model\n",
        "        self.previous_frame = None\n",
        "\n",
        "    def apply(self, frame):\n",
        "        gray = cv2.cvtColor(frame, cv2.COLOR_BGR2GRAY)\n",
        "        gray = cv2.GaussianBlur(gray, (5, 5), 0)\n",
        "\n",
        "        if self.background is None:\n",
        "            self.background = gray.astype(np.float32)\n",
        "            return np.zeros_like(gray, dtype=np.uint8)\n",
        "\n",
        "        # Update background model\n",
        "        cv2.accumulateWeighted(gray, self.background, self.alpha)\n",
        "        background_frame = cv2.convertScaleAbs(self.background)\n",
        "\n",
        "        # Compute foreground mask\n",
        "        foreground_mask = cv2.absdiff(gray, background_frame)\n",
        "        _, thresh = cv2.threshold(foreground_mask, 30, 255, cv2.THRESH_BINARY)\n",
        "\n",
        "        return thresh\n",
        "\n",
        "# Load input video\n",
        "cap = cv2.VideoCapture(\"/content/2053100-uhd_3840_2160_30fps.mp4\")\n",
        "\n",
        "# Get video properties\n",
        "frame_width = int(cap.get(3))\n",
        "frame_height = int(cap.get(4))\n",
        "fps = int(cap.get(cv2.CAP_PROP_FPS))\n",
        "\n",
        "# Define video writers\n",
        "fourcc = cv2.VideoWriter_fourcc(*'XVID')\n",
        "original_out = cv2.VideoWriter(\"original_output.avi\", fourcc, fps, (frame_width, frame_height))\n",
        "subtracted_out = cv2.VideoWriter(\"bg_subtracted_output.avi\", fourcc, fps, (frame_width, frame_height), isColor=False)\n",
        "\n",
        "background_subtractor = BackgroundSubtractor()\n",
        "\n",
        "while cap.isOpened():\n",
        "    ret, frame = cap.read()\n",
        "    if not ret:\n",
        "        break\n",
        "\n",
        "    fg_mask = background_subtractor.apply(frame)\n",
        "\n",
        "    # Save frames to videos\n",
        "    original_out.write(frame)\n",
        "    subtracted_out.write(fg_mask)\n",
        "\n",
        "cap.release()\n",
        "original_out.release()\n",
        "subtracted_out.release()\n",
        "\n",
        "print(\"Videos saved: original_output.avi and bg_subtracted_output.avi\")\n",
        "\n"
      ],
      "metadata": {
        "id": "R9c6X9tQF_y6",
        "outputId": "47d6c0e7-cf2a-45a7-ccca-bf787dae6a3d",
        "colab": {
          "base_uri": "https://localhost:8080/"
        }
      },
      "execution_count": null,
      "outputs": [
        {
          "metadata": {
            "tags": null
          },
          "name": "stdout",
          "output_type": "stream",
          "text": [
            "Videos saved: original_output.avi and bg_subtracted_output.avi\n"
          ]
        }
      ]
    },
    {
      "cell_type": "code",
      "source": [],
      "metadata": {
        "id": "_6uUyBssGhJT"
      },
      "execution_count": null,
      "outputs": []
    }
  ]
}